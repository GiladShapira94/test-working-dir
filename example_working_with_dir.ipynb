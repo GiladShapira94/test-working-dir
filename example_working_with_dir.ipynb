{
 "cells": [
  {
   "cell_type": "code",
   "execution_count": 39,
   "id": "bf69ba2a",
   "metadata": {},
   "outputs": [],
   "source": [
    "import mlrun"
   ]
  },
  {
   "cell_type": "code",
   "execution_count": 40,
   "id": "afbc0d45",
   "metadata": {},
   "outputs": [
    {
     "name": "stdout",
     "output_type": "stream",
     "text": [
      "> 2023-03-26 08:42:19,515 [info] loaded project testing-workdir from MLRun DB\n"
     ]
    }
   ],
   "source": [
    "project = mlrun.get_or_create_project('testing-workdir','./',user_project=True,init_git=True,subpath='./project')"
   ]
  },
  {
   "cell_type": "code",
   "execution_count": 41,
   "id": "85b25064",
   "metadata": {},
   "outputs": [],
   "source": [
    "project.create_remote('https://github.com/GiladShapira94/test-working-dir.git')"
   ]
  },
  {
   "cell_type": "code",
   "execution_count": 42,
   "id": "990cb403",
   "metadata": {},
   "outputs": [
    {
     "name": "stdout",
     "output_type": "stream",
     "text": [
      "kind: project\n",
      "metadata:\n",
      "  name: testing-workdir-shapira\n",
      "  created: '2023-03-26T07:22:52.792000'\n",
      "spec:\n",
      "  functions:\n",
      "  - name: add-1\n",
      "    kind: job\n",
      "    image: mlrun/mlrun\n",
      "    handler: add_1.add_1\n",
      "  - name: add-2\n",
      "    kind: job\n",
      "    image: mlrun/mlrun\n",
      "    handler: add_2.add_2\n",
      "  workflows:\n",
      "  - path: ./project/workflow.py\n",
      "    name: main\n",
      "  artifacts: []\n",
      "  conda: ''\n",
      "  source: git://github.com/GiladShapira94/test-working-dir.git#master\n",
      "  subpath: ./project\n",
      "  origin_url: git://github.com/GiladShapira94/test-working-dir.git#master\n",
      "  load_source_on_run: false\n",
      "  desired_state: online\n",
      "  owner: shapira\n",
      "status:\n",
      "  state: online\n",
      "\n"
     ]
    }
   ],
   "source": [
    "print(project.to_yaml())"
   ]
  },
  {
   "cell_type": "code",
   "execution_count": 43,
   "id": "47e5922f",
   "metadata": {},
   "outputs": [
    {
     "name": "stdout",
     "output_type": "stream",
     "text": [
      "Overwriting ./project/add_1.py\n"
     ]
    }
   ],
   "source": [
    "%%writefile ./project/add_1.py\n",
    "\n",
    "def add_1(x):\n",
    "    x = x+1\n",
    "    \n",
    "    return x"
   ]
  },
  {
   "cell_type": "code",
   "execution_count": 44,
   "id": "043b6d5c",
   "metadata": {},
   "outputs": [
    {
     "name": "stdout",
     "output_type": "stream",
     "text": [
      "Overwriting ./project/add_2.py\n"
     ]
    }
   ],
   "source": [
    "%%writefile ./project/add_2.py\n",
    "\n",
    "def add_2(x):\n",
    "    x = x+2\n",
    "    \n",
    "    return x"
   ]
  },
  {
   "cell_type": "code",
   "execution_count": 45,
   "id": "434ba74a",
   "metadata": {},
   "outputs": [
    {
     "data": {
      "text/plain": [
       "<mlrun.runtimes.kubejob.KubejobRuntime at 0x7f43ef601cd0>"
      ]
     },
     "execution_count": 45,
     "metadata": {},
     "output_type": "execute_result"
    }
   ],
   "source": [
    "project.set_function(name='add-1',kind='job',image='mlrun/mlrun',handler='add_1.add_1',with_repo=True)"
   ]
  },
  {
   "cell_type": "code",
   "execution_count": 46,
   "id": "fbdde4c8",
   "metadata": {},
   "outputs": [
    {
     "data": {
      "text/plain": [
       "<mlrun.runtimes.kubejob.KubejobRuntime at 0x7f43ef609350>"
      ]
     },
     "execution_count": 46,
     "metadata": {},
     "output_type": "execute_result"
    }
   ],
   "source": [
    "project.set_function(name='add-2',kind='job',image='mlrun/mlrun',handler='add_2.add_2',with_repo=True)"
   ]
  },
  {
   "cell_type": "code",
   "execution_count": 47,
   "id": "3e8e98f3",
   "metadata": {},
   "outputs": [
    {
     "name": "stdout",
     "output_type": "stream",
     "text": [
      "Overwriting ./project/workflow.py\n"
     ]
    }
   ],
   "source": [
    "%%writefile ./project/workflow.py\n",
    "\n",
    "\n",
    "from kfp import dsl\n",
    "from mlrun.platforms import auto_mount\n",
    "import os\n",
    "import sys\n",
    "import mlrun\n",
    "\n",
    "funcs = {}\n",
    "\n",
    "\n",
    "def kfpipeline(x):\n",
    "    add_1 = mlrun.run_function('add-1',params={'x':x},outputs=['return'])\n",
    "    \n",
    "    add_2 = mlrun.run_function('add-2',params={'x':add_1.outputs['return']})"
   ]
  },
  {
   "cell_type": "code",
   "execution_count": 48,
   "id": "1d696de6",
   "metadata": {},
   "outputs": [],
   "source": [
    "project.set_workflow('main','./project/workflow.py')"
   ]
  },
  {
   "cell_type": "code",
   "execution_count": 49,
   "id": "ae82083f",
   "metadata": {},
   "outputs": [],
   "source": [
    "from os import listdir\n",
    "from os.path import isfile, join\n",
    "onlyfiles = [f for f in listdir('./') if isfile(join('./', f))]"
   ]
  },
  {
   "cell_type": "code",
   "execution_count": 50,
   "id": "e1f7ec2d",
   "metadata": {},
   "outputs": [
    {
     "name": "stdout",
     "output_type": "stream",
     "text": [
      "./example_working_with_dir.ipynb\n",
      "./project.yaml\n",
      "./.git/HEAD\n",
      "./.git/config\n",
      "./.git/description\n",
      "./.git/hooks/applypatch-msg.sample\n",
      "./.git/hooks/commit-msg.sample\n",
      "./.git/hooks/fsmonitor-watchman.sample\n",
      "./.git/hooks/post-update.sample\n",
      "./.git/hooks/pre-applypatch.sample\n",
      "./.git/hooks/pre-commit.sample\n",
      "./.git/hooks/pre-push.sample\n",
      "./.git/hooks/pre-rebase.sample\n",
      "./.git/hooks/pre-receive.sample\n",
      "./.git/hooks/prepare-commit-msg.sample\n",
      "./.git/hooks/update.sample\n",
      "./.git/info/exclude\n",
      "./.ipynb_checkpoints/example_working_with_dir-checkpoint.ipynb\n",
      "./project/add_1.py\n",
      "./project/add_2.py\n",
      "./project/project.yaml\n",
      "./project/workflow.py\n"
     ]
    }
   ],
   "source": [
    "import os\n",
    "\n",
    "# The directory you want to start the search from\n",
    "start_path = './'\n",
    "files = []\n",
    "# Traverse through the directory and its subdirectories\n",
    "for root, dirs, files in os.walk(start_path):\n",
    "    for filename in files:\n",
    "        # Get the full file path\n",
    "        file_path = os.path.join(root, filename)\n",
    "        # Do something with the file_path, such as print it\n",
    "        print(file_path)\n"
   ]
  },
  {
   "cell_type": "code",
   "execution_count": 51,
   "id": "263b36b0",
   "metadata": {},
   "outputs": [],
   "source": [
    "files = ['./project/workflow.py','./project/add_2.py','./project/add_1.py','./example_working_with_dir.ipynb','./project/project.yaml']"
   ]
  },
  {
   "cell_type": "code",
   "execution_count": 52,
   "id": "fe727305",
   "metadata": {},
   "outputs": [],
   "source": [
    "project.set_source('git://github.com/GiladShapira94/test-working-dir.git#master')"
   ]
  },
  {
   "cell_type": "code",
   "execution_count": 53,
   "id": "d8fb1ce3",
   "metadata": {},
   "outputs": [
    {
     "data": {
      "text/plain": [
       "<mlrun.projects.project.MlrunProject at 0x7f43ef5ea690>"
      ]
     },
     "execution_count": 53,
     "metadata": {},
     "output_type": "execute_result"
    }
   ],
   "source": [
    "project.save()"
   ]
  },
  {
   "cell_type": "code",
   "execution_count": null,
   "id": "31440a97",
   "metadata": {},
   "outputs": [],
   "source": [
    "project.push(branch='master',message=\"First Push\",add=files)"
   ]
  },
  {
   "cell_type": "code",
   "execution_count": null,
   "id": "a5123cfb",
   "metadata": {},
   "outputs": [],
   "source": []
  }
 ],
 "metadata": {
  "kernelspec": {
   "display_name": "Python 3 (ipykernel)",
   "language": "python",
   "name": "python3"
  },
  "language_info": {
   "codemirror_mode": {
    "name": "ipython",
    "version": 3
   },
   "file_extension": ".py",
   "mimetype": "text/x-python",
   "name": "python",
   "nbconvert_exporter": "python",
   "pygments_lexer": "ipython3",
   "version": "3.7.6"
  }
 },
 "nbformat": 4,
 "nbformat_minor": 5
}
