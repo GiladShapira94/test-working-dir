{
 "cells": [
  {
   "cell_type": "code",
   "execution_count": 1,
   "id": "ed436124",
   "metadata": {},
   "outputs": [],
   "source": [
    "import mlrun"
   ]
  },
  {
   "cell_type": "code",
   "execution_count": 5,
   "id": "26d63276",
   "metadata": {},
   "outputs": [
    {
     "name": "stdout",
     "output_type": "stream",
     "text": [
      "> 2023-03-26 08:25:02,180 [info] loaded project testing-workdir from MLRun DB\n"
     ]
    }
   ],
   "source": [
    "project = mlrun.get_or_create_project('testing-workdir','./',user_project=True,init_git=True,subpath='./project')"
   ]
  },
  {
   "cell_type": "code",
   "execution_count": 6,
   "id": "cf49c86b",
   "metadata": {},
   "outputs": [],
   "source": [
    "# project.create_remote('https://github.com/GiladShapira94/test-working-dir.git')"
   ]
  },
  {
   "cell_type": "code",
   "execution_count": 7,
   "id": "992e669a",
   "metadata": {},
   "outputs": [
    {
     "name": "stdout",
     "output_type": "stream",
     "text": [
      "kind: project\n",
      "metadata:\n",
      "  name: testing-workdir-shapira\n",
      "  created: '2023-03-26T07:22:52.792000'\n",
      "spec:\n",
      "  functions: []\n",
      "  workflows: []\n",
      "  artifacts: []\n",
      "  conda: ''\n",
      "  source: ''\n",
      "  subpath: ./project\n",
      "  desired_state: online\n",
      "  owner: shapira\n",
      "status:\n",
      "  state: online\n",
      "\n"
     ]
    }
   ],
   "source": [
    "print(project.to_yaml())"
   ]
  },
  {
   "cell_type": "code",
   "execution_count": 8,
   "id": "6e22e95c",
   "metadata": {},
   "outputs": [
    {
     "name": "stdout",
     "output_type": "stream",
     "text": [
      "Overwriting ./project/add_1.py\n"
     ]
    }
   ],
   "source": [
    "%%writefile ./project/add_1.py\n",
    "\n",
    "def add_1(x):\n",
    "    x = x+1\n",
    "    \n",
    "    return x"
   ]
  },
  {
   "cell_type": "code",
   "execution_count": 9,
   "id": "b5710943",
   "metadata": {},
   "outputs": [
    {
     "name": "stdout",
     "output_type": "stream",
     "text": [
      "Overwriting ./project/add_2.py\n"
     ]
    }
   ],
   "source": [
    "%%writefile ./project/add_2.py\n",
    "\n",
    "def add_2(x):\n",
    "    x = x+2\n",
    "    \n",
    "    return x"
   ]
  },
  {
   "cell_type": "code",
   "execution_count": 11,
   "id": "6e437016",
   "metadata": {},
   "outputs": [
    {
     "data": {
      "text/plain": [
       "<mlrun.runtimes.kubejob.KubejobRuntime at 0x7f43f0bb01d0>"
      ]
     },
     "execution_count": 11,
     "metadata": {},
     "output_type": "execute_result"
    }
   ],
   "source": [
    "project.set_function(name='add-1',kind='job',image='mlrun/mlrun',handler='add_1.add_1',with_repo=True)"
   ]
  },
  {
   "cell_type": "code",
   "execution_count": 12,
   "id": "93e47819",
   "metadata": {},
   "outputs": [
    {
     "data": {
      "text/plain": [
       "<mlrun.runtimes.kubejob.KubejobRuntime at 0x7f43f0bb0d90>"
      ]
     },
     "execution_count": 12,
     "metadata": {},
     "output_type": "execute_result"
    }
   ],
   "source": [
    "project.set_function(name='add-2',kind='job',image='mlrun/mlrun',handler='add_2.add_2',with_repo=True)"
   ]
  },
  {
   "cell_type": "code",
   "execution_count": null,
   "id": "948d1b18",
   "metadata": {},
   "outputs": [],
   "source": [
    "%%writefile ./project/workflow.py\n",
    "\n",
    "\n",
    "from kfp import dsl\n",
    "from mlrun.platforms import auto_mount\n",
    "import os\n",
    "import sys\n",
    "import mlrun\n",
    "\n",
    "funcs = {}\n",
    "\n",
    "\n",
    "def kfpipeline(x):\n",
    "    add_1 = mlrun.run_function('add-1',params={'x':x},outputs=['return'])\n",
    "    \n",
    "    add_2 = mlrun.run_function('add-2',params={'x':add_1.outputs['return']})"
   ]
  }
 ],
 "metadata": {
  "kernelspec": {
   "display_name": "Python 3 (ipykernel)",
   "language": "python",
   "name": "python3"
  },
  "language_info": {
   "codemirror_mode": {
    "name": "ipython",
    "version": 3
   },
   "file_extension": ".py",
   "mimetype": "text/x-python",
   "name": "python",
   "nbconvert_exporter": "python",
   "pygments_lexer": "ipython3",
   "version": "3.7.6"
  }
 },
 "nbformat": 4,
 "nbformat_minor": 5
}
